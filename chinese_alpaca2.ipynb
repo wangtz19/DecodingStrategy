{
 "cells": [
  {
   "cell_type": "code",
   "execution_count": 1,
   "metadata": {},
   "outputs": [
    {
     "name": "stderr",
     "output_type": "stream",
     "text": [
      "/opt/conda/envs/LLM/lib/python3.9/site-packages/tqdm/auto.py:21: TqdmWarning: IProgress not found. Please update jupyter and ipywidgets. See https://ipywidgets.readthedocs.io/en/stable/user_install.html\n",
      "  from .autonotebook import tqdm as notebook_tqdm\n"
     ]
    },
    {
     "name": "stdout",
     "output_type": "stream",
     "text": [
      "[2023-12-10 01:17:57,213] [INFO] [real_accelerator.py:133:get_accelerator] Setting ds_accelerator to cuda (auto detect)\n"
     ]
    },
    {
     "name": "stderr",
     "output_type": "stream",
     "text": [
      "Loading checkpoint shards: 100%|██████████| 3/3 [00:22<00:00,  7.58s/it]\n",
      "/opt/conda/envs/LLM/lib/python3.9/site-packages/transformers/generation/configuration_utils.py:362: UserWarning: `do_sample` is set to `False`. However, `temperature` is set to `0.9` -- this flag is only used in sample-based generation modes. You should set `do_sample=True` or unset `temperature`. This was detected when initializing the generation config instance, which means the corresponding file may hold incorrect parameterization and should be fixed.\n",
      "  warnings.warn(\n",
      "/opt/conda/envs/LLM/lib/python3.9/site-packages/transformers/generation/configuration_utils.py:367: UserWarning: `do_sample` is set to `False`. However, `top_p` is set to `0.6` -- this flag is only used in sample-based generation modes. You should set `do_sample=True` or unset `top_p`. This was detected when initializing the generation config instance, which means the corresponding file may hold incorrect parameterization and should be fixed.\n",
      "  warnings.warn(\n"
     ]
    }
   ],
   "source": [
    "from cad import CAD\n",
    "from transformers import AutoTokenizer, AutoModelForCausalLM\n",
    "import torch\n",
    "import os\n",
    "\n",
    "os.environ[\"CUDA_VISIBLE_DEVICES\"] = \"0\"\n",
    "model_name = \"/root/share/chinese-alpaca-2-13b\"\n",
    "model = AutoModelForCausalLM.from_pretrained(model_name, device_map=\"auto\", torch_dtype=torch.float16, )\n",
    "tokenizer = AutoTokenizer.from_pretrained(model_name, use_fast=False, padding_side=\"left\", )\n",
    "cad = CAD(model=model, tokenizer=tokenizer)"
   ]
  },
  {
   "cell_type": "code",
   "execution_count": 2,
   "metadata": {},
   "outputs": [
    {
     "name": "stdout",
     "output_type": "stream",
     "text": [
      "[INST] <<SYS>>\n",
      "You are a helpful assistant. 你是一个乐于助人的助手。\n",
      "<</SYS>>\n",
      "\n",
      "【已知】：【\"项目名称\"：深圳市市场监督管理局宝安监管局2022年度知识产权优秀服务机构奖励项目\n",
      "基本信息：政策项目类型: 评审类\n",
      "政策项目审批类型: 人工\n",
      "是否启动申报: 已启动\n",
      "发布范围: 公开发布\n",
      "办理时限: 90\n",
      "受理部门: 市市场监督管理局宝安监管局\n",
      "支持方式: 资金\n",
      "项目实施地点: 宝安区\n",
      "窗口收件是否需到大厅提交材料: 否\n",
      "是否项目公示: 是\n",
      "实施年度: 2022\n",
      "申报条件: （一）具备独立法人资格，在宝安区开展实际经营活动的企业或机构；\n",
      "（二）拥有专利代理师或律师6名以上；\n",
      "（三）上年度代理专利诉讼案件达5件以上或上年度代理的发明专利授权数量达100件以上，且至少为2家宝安区的国家专精特新“小巨人”企业、省“专精特新”企业或宝安区六类百强企业提供知识产权业务服务；\n",
      "（四）知识产权专业化、市场化、国际化服务工作取得显著成效，具备一定的知识产权服务出口能力；\n",
      "（五）本年度未获得市知识产权服务机构类资助。\n",
      "奖励标准: 每年评选不超过5家知识产权优秀服务机构，每家奖励30万元。\n",
      "申请材料: （一）项目申请表；\n",
      "（二）法定代表人授权委托证明书、银行开户证明（可导入）；\n",
      "（三）国家知识产权局授予发放的批准设立机构通知书及专利代理机构注册证复印件；\n",
      "（四）专业工作人员清单、近3个月社保缴纳费用明细表（明细表中要能清晰展示社保缴纳单位的全称）及相应的执业资格证明文件；\n",
      "（五）上年度为宝安区企事业单位、其他机构或个人提供知识产权服务清单；\n",
      "（六）知识产权业务相关材料，包括但不限于专利诉讼代理合同、诉讼判决文书、知识产权服务合同、代理授权专利清单、发明专利代理授权率相关佐证资料等（外文资料需提供中文翻译件）；\n",
      "（七）知识产权专业化、市场化、国际化服务工作开展情况总结及证明材料；\n",
      "（八）上年度经营状况良好，产生了较好的经济效益的相关佐证材料；\n",
      "（九）其他必要的申请材料。\n",
      "项目审批补充流程: 1.材料评审：深圳市市场监督管理局宝安监管局组织专家对材料进行评审，根据专家评分排序，确定进入现场评审单位名单。\n",
      "2..现场评审：深圳市市场监督管理局宝安监管局对入围单位进行现场核查，根据专家综合评分（材料评审与现场评审得分之和）排序确定拟奖名单。\n",
      "受理时间: 2022年7月1日至2022年7月30日\n",
      "受理方式: 本项目采取网上申报方式，申报主体在受理期限内登录宝安区亲清政企服务直达平台（https://qqzq.baoan.gov.cn）搜索申报项目，根据要求在线填报相关材料。\n",
      "咨询方式: 业务咨询电话：27836700\n",
      "政策名称: 宝安区关于促进先进制造业和现代服务业高质量发展的若干措施（深宝府〔2022〕15号）\n",
      "支持内容（政策依据）: 对经区业务主管部门考核优秀的知识产权服务机构，给予奖励。】\n",
      "你现在是一个政企领域的专家，基于【已知】给的多个内容，请回答问题：“深圳市市场监督管理局宝安监管局2022年度知识产权优秀服务机构奖励项目发布范围是？”，一定要保证答案正确！[/INST]\n"
     ]
    }
   ],
   "source": [
    "import pandas as pd\n",
    "\n",
    "PROMPT_TEMPLATE = \"\"\"[INST] <<SYS>>\n",
    "You are a helpful assistant. 你是一个乐于助人的助手。\n",
    "<</SYS>>\n",
    "\n",
    "【已知】：【\"项目名称\"：{title}\n",
    "{label}：{content}】\n",
    "你现在是一个政企领域的专家，基于【已知】给的多个内容，请回答问题：“{question}”，一定要保证答案正确！[/INST]\"\"\"\n",
    "\n",
    "df = pd.read_json(\"/root/share/scripts/output/intent-chatglm3-6b-optimize.json\")\n",
    "row = df.loc[5]\n",
    "question = row[\"一般提问\"]\n",
    "prompt = PROMPT_TEMPLATE.format(\n",
    "    title=row[\"title\"],\n",
    "    label=row[\"二级policy预测\"],\n",
    "    content=row[\"content\"],\n",
    "    question=row[\"一般提问\"],\n",
    ")\n",
    "\n",
    "print(prompt)"
   ]
  },
  {
   "cell_type": "code",
   "execution_count": 3,
   "metadata": {},
   "outputs": [
    {
     "name": "stdout",
     "output_type": "stream",
     "text": [
      "['深圳市市场监督管理局宝安监管局2022年度知识产权优秀服务机构奖励项目的发布范围是公开发布的。']\n"
     ]
    }
   ],
   "source": [
    "outputs_no_cad = cad.generate(\n",
    "    texts=[prompt],\n",
    "    max_new_tokens=200,\n",
    ")\n",
    "print(outputs_no_cad)"
   ]
  },
  {
   "cell_type": "code",
   "execution_count": 5,
   "metadata": {},
   "outputs": [
    {
     "name": "stdout",
     "output_type": "stream",
     "text": [
      "['“公开发布”']\n"
     ]
    }
   ],
   "source": [
    "outputs = cad.generate(\n",
    "    texts=[question],\n",
    "    texts_with_context=[prompt],\n",
    "    max_new_tokens=200,\n",
    "    alpha=0.5,\n",
    ")\n",
    "\n",
    "print(outputs)"
   ]
  },
  {
   "cell_type": "code",
   "execution_count": 6,
   "metadata": {},
   "outputs": [
    {
     "name": "stderr",
     "output_type": "stream",
     "text": [
      "100%|██████████| 100/100 [17:47<00:00, 10.68s/it]\n"
     ]
    }
   ],
   "source": [
    "from tqdm import tqdm\n",
    "\n",
    "tqdm.pandas()\n",
    "\n",
    "df[\"reply_alpaca2_cad\"] = df.progress_apply(\n",
    "    lambda row: cad.generate(\n",
    "        texts=[row[\"一般提问\"]],\n",
    "        texts_with_context=[PROMPT_TEMPLATE.format(\n",
    "            title=row[\"title\"],\n",
    "            label=row[\"二级policy预测\"],\n",
    "            content=row[\"content\"],\n",
    "            question=row[\"一般提问\"],\n",
    "        )],\n",
    "        max_new_tokens=2048,\n",
    "        alpha=0.5,\n",
    "    )[0],\n",
    "    axis=1,\n",
    ")"
   ]
  },
  {
   "cell_type": "code",
   "execution_count": null,
   "metadata": {},
   "outputs": [],
   "source": [
    "df.to_excel(\"output/alpaca2_cad.xlsx\")"
   ]
  }
 ],
 "metadata": {
  "kernelspec": {
   "display_name": "LLM",
   "language": "python",
   "name": "python3"
  },
  "language_info": {
   "codemirror_mode": {
    "name": "ipython",
    "version": 3
   },
   "file_extension": ".py",
   "mimetype": "text/x-python",
   "name": "python",
   "nbconvert_exporter": "python",
   "pygments_lexer": "ipython3",
   "version": "3.9.17"
  }
 },
 "nbformat": 4,
 "nbformat_minor": 2
}
