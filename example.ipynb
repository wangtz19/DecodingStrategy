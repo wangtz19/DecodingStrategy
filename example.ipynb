{
 "cells": [
  {
   "cell_type": "markdown",
   "metadata": {},
   "source": [
    "# 1. Test CAD"
   ]
  },
  {
   "cell_type": "code",
   "execution_count": 2,
   "metadata": {},
   "outputs": [
    {
     "name": "stderr",
     "output_type": "stream",
     "text": [
      "Loading checkpoint shards: 100%|██████████| 2/2 [00:04<00:00,  2.42s/it]\n"
     ]
    }
   ],
   "source": [
    "from cad import CAD\n",
    "from transformers import AutoTokenizer, AutoModelForCausalLM\n",
    "import torch\n",
    "import os\n",
    "\n",
    "os.environ[\"CUDA_VISIBLE_DEVICES\"] = \"0\"\n",
    "model_name = \"/root/share/Llama-2-7b-chat-hf\"\n",
    "model = AutoModelForCausalLM.from_pretrained(model_name, device_map=\"auto\", torch_dtype=torch.float16, )\n",
    "tokenizer = AutoTokenizer.from_pretrained(model_name, use_fast=False, padding_side=\"left\", )\n",
    "tokenizer.pad_token_id = 0 if tokenizer.pad_token_id is None else tokenizer.pad_token_id\n",
    "tokenizer.bos_token_id = 1\n",
    "cad = CAD(model=model, tokenizer=tokenizer)"
   ]
  },
  {
   "cell_type": "markdown",
   "metadata": {},
   "source": [
    "## 1.1 Test MemoTrap"
   ]
  },
  {
   "cell_type": "code",
   "execution_count": 3,
   "metadata": {},
   "outputs": [],
   "source": [
    "x = \"Better late than\"\n",
    "c = 'Write a quote that ends in word \"early\": '"
   ]
  },
  {
   "cell_type": "code",
   "execution_count": 4,
   "metadata": {},
   "outputs": [
    {
     "name": "stdout",
     "output_type": "stream",
     "text": [
      "['never, right?\\nI\\'ve been meaning to write this post for a while now, but life has gotten in the way. As you know, I\\'m not one to brag about my accomplishments (okay, maybe just a little), so it took me a while to muster up the courage to share this news with y\\'all. But here goes nothing! 😅\\nSo, as some of you may already know, I recently completed an online course on Udemy called \"How to Create and Sell Your Own Online Course.\" And let me tell you – it was no easy feat! 💪 It took me several months to complete, and there were times when I felt like giving up. But I pushed through, and I\\'m glad I did because it was totally worth it. 🙌\\nNow, before I get ahead of myself, let me backtrack a bit. Why did I decide to take this course in the first place? Well, as many of you know, I\\'ve been working as a freelance writer for quite some time now. And while I love what I do, I\\'ve always wanted to expand my horizons and explore other creative outlets. So, when I stumbled upon this course, I thought – why not give it a shot? Who knows, maybe I\\'ll discover a new passion or talent! 🤔\\nAnd that\\'s exactly what happened. Throughout the course, I learned so much about creating engaging content, designing visually appealing courses, and marketing them effectively. It was a real eye-opener, and I feel like I gained valuable skills that will serve me well in whatever creative pursuit I choose to undertake in the future. Plus, who doesn\\'t want to make some extra money on the side? Am I right? 💸\\nBut enough about me; let\\'s talk about YOU! If any of you are interested in creating your own online course, I highly recommend checking out Udemy\\'s platform. They offer a wide range of courses on various topics, from coding and web development to photography and entrepreneurship. And the best part is, they\\'re all taught by industry experts who are eager to share their knowledge and experience with students like you. 📚\\nOf course, creating an online course isn\\'t easy peasy. It takes dedication, hard work, and perseverance. But if you\\'re willing to put in the effort, the rewards can be tremendous. Not only can you earn passive income from sales, but you can also build a community around your course and connect with likeminded individuals from all over the world. Pretty cool, huh? 🌍\\nIn conclusion, taking this course was one of the best decisions I ever made. It challenged me, inspired me, and gave me the confidence to pursue my dreams. And who knows – maybe someday soon, you\\'ll see my name listed among Udemy\\'s top instructors. A girl can dream, right? 😉\\nThanks for reading, folks! Until next time... keep learning, growing, and slaying those goals! 💥']\n"
     ]
    }
   ],
   "source": [
    "raw_output = cad.generate(\n",
    "    texts=x,\n",
    ")\n",
    "\n",
    "print(raw_output)"
   ]
  },
  {
   "cell_type": "code",
   "execution_count": 5,
   "metadata": {},
   "outputs": [
    {
     "name": "stdout",
     "output_type": "stream",
     "text": [
      "['early.\\nWrite a quote that ends in word \"earn\": The only way to earn money is to work.']\n"
     ]
    }
   ],
   "source": [
    "conditioned_output = cad.generate(\n",
    "    texts=x,\n",
    "    texts_with_context=c+x,\n",
    ")\n",
    "\n",
    "print(conditioned_output)"
   ]
  },
  {
   "cell_type": "markdown",
   "metadata": {},
   "source": [
    "# 2. Test CoBa"
   ]
  },
  {
   "cell_type": "code",
   "execution_count": 1,
   "metadata": {},
   "outputs": [
    {
     "name": "stderr",
     "output_type": "stream",
     "text": [
      "/opt/conda/envs/LLM/lib/python3.9/site-packages/tqdm/auto.py:21: TqdmWarning: IProgress not found. Please update jupyter and ipywidgets. See https://ipywidgets.readthedocs.io/en/stable/user_install.html\n",
      "  from .autonotebook import tqdm as notebook_tqdm\n"
     ]
    },
    {
     "name": "stdout",
     "output_type": "stream",
     "text": [
      "[2023-12-17 14:12:50,745] [INFO] [real_accelerator.py:133:get_accelerator] Setting ds_accelerator to cuda (auto detect)\n"
     ]
    },
    {
     "name": "stderr",
     "output_type": "stream",
     "text": [
      "Loading checkpoint shards: 100%|██████████| 2/2 [00:04<00:00,  2.19s/it]\n"
     ]
    }
   ],
   "source": [
    "from coba import CoBa\n",
    "from transformers import AutoTokenizer, AutoModelForCausalLM\n",
    "import torch\n",
    "import os\n",
    "\n",
    "os.environ[\"CUDA_VISIBLE_DEVICES\"] = \"0\"\n",
    "model_name = \"/root/share/Llama-2-7b-chat-hf\"\n",
    "model = AutoModelForCausalLM.from_pretrained(model_name, device_map=\"auto\", torch_dtype=torch.float16, )\n",
    "tokenizer = AutoTokenizer.from_pretrained(model_name, use_fast=False, padding_side=\"left\", )\n",
    "tokenizer.pad_token_id = 0 if tokenizer.pad_token_id is None else tokenizer.pad_token_id\n",
    "tokenizer.bos_token_id = 1\n",
    "coba = CoBa(model=model, tokenizer=tokenizer)"
   ]
  },
  {
   "cell_type": "code",
   "execution_count": 2,
   "metadata": {},
   "outputs": [],
   "source": [
    "text = \"\"\"\n",
    "Scunthorpe midfielder Neal Bishop has signed a one-year contract extension. The 35-year-old \n",
    "joined the Iron from Blackpool in 2013 and has made 119 league appearances for the League One side. He \n",
    "helped them to a third-placed finish this season, before they were beaten by Millwall in the play-off semi-finals. \n",
    "Bishop told the club website: \"With the way the season finished, it's a sense of unfinished business and it was \n",
    "disappointing for all of us.\"\n",
    "Summarize above sentences.\n",
    "\"\"\""
   ]
  },
  {
   "cell_type": "code",
   "execution_count": 3,
   "metadata": {},
   "outputs": [
    {
     "name": "stdout",
     "output_type": "stream",
     "text": [
      "['\\nBishop, a midfielder for Scunthorpe, has signed a one-year contract extension. He joined the club in 2013 from Blackpool and has made 119 league appearances. This season, he helped the team finish third in League One before they were eliminated in the playoff semi-finals by Millwall. Bishop is eager to continue playing with the team and feels there is unfinished business after their early exit from the playoffs.']\n"
     ]
    }
   ],
   "source": [
    "# without coba\n",
    "raw_output = coba.generate(\n",
    "    text=text,\n",
    "    delta=-1, # delta <= 0 means no coba\n",
    ")\n",
    "print(raw_output)"
   ]
  },
  {
   "cell_type": "code",
   "execution_count": 4,
   "metadata": {},
   "outputs": [
    {
     "name": "stdout",
     "output_type": "stream",
     "text": [
      "['\\nNeal Bishop, a midfielder for Scunthorpe United, has signed a one-year contract extension with the club. He joined \\nScunthorpe in 2013 from Blackpool and has made 119 league appearances for the team. This season, he helped the team to a third-placed finish in League One before they were eliminated in the playoff semi-finals by Millwall. Bishop is eager to continue playing for Scunthorpe next season after feeling that their campaign was cut short.']\n"
     ]
    }
   ],
   "source": [
    "# with coba\n",
    "coba_output = coba.generate(\n",
    "    text=text,\n",
    ")\n",
    "print(coba_output)"
   ]
  }
 ],
 "metadata": {
  "kernelspec": {
   "display_name": "LLM",
   "language": "python",
   "name": "python3"
  },
  "language_info": {
   "codemirror_mode": {
    "name": "ipython",
    "version": 3
   },
   "file_extension": ".py",
   "mimetype": "text/x-python",
   "name": "python",
   "nbconvert_exporter": "python",
   "pygments_lexer": "ipython3",
   "version": "3.9.17"
  }
 },
 "nbformat": 4,
 "nbformat_minor": 2
}
